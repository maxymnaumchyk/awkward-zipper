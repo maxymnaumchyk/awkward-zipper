{
  "nbformat": 4,
  "nbformat_minor": 0,
  "metadata": {
    "colab": {
      "provenance": []
    },
    "kernelspec": {
      "name": "python3",
      "display_name": "Python 3"
    },
    "language_info": {
      "name": "python"
    }
  },
  "cells": [
    {
      "cell_type": "markdown",
      "source": [
        "Original jupyter notebook by Iason Krommydas: https://github.com/ikrommyd/coffea-virtual-array-demo/blob/main/coffea_ADL_and_docs.ipynb"
      ],
      "metadata": {
        "id": "hkjBmKMpozZp"
      }
    },
    {
      "cell_type": "code",
      "source": [
        "# to get the test root file manually\n",
        "# !wget {'https://github.com/ikrommyd/coffea-virtual-array-demo/raw/de75f6d8a17be5cb1c71dbbf962b366fc92dc251/data/DYto2E.root'}"
      ],
      "metadata": {
        "colab": {
          "base_uri": "https://localhost:8080/"
        },
        "id": "YevcDoZsUvwF",
        "outputId": "73e73d7c-70bb-4972-d9ef-f4f64103fde1"
      },
      "execution_count": null,
      "outputs": [
        {
          "output_type": "stream",
          "name": "stdout",
          "text": [
            "--2025-07-14 14:29:35--  https://github.com/ikrommyd/coffea-virtual-array-demo/raw/de75f6d8a17be5cb1c71dbbf962b366fc92dc251/data/DYto2E.root\n",
            "Resolving github.com (github.com)... 140.82.116.3\n",
            "Connecting to github.com (github.com)|140.82.116.3|:443... connected.\n",
            "HTTP request sent, awaiting response... 302 Found\n",
            "Location: https://media.githubusercontent.com/media/ikrommyd/coffea-virtual-array-demo/de75f6d8a17be5cb1c71dbbf962b366fc92dc251/data/DYto2E.root [following]\n",
            "--2025-07-14 14:29:35--  https://media.githubusercontent.com/media/ikrommyd/coffea-virtual-array-demo/de75f6d8a17be5cb1c71dbbf962b366fc92dc251/data/DYto2E.root\n",
            "Resolving media.githubusercontent.com (media.githubusercontent.com)... 185.199.108.133, 185.199.109.133, 185.199.110.133, ...\n",
            "Connecting to media.githubusercontent.com (media.githubusercontent.com)|185.199.108.133|:443... connected.\n",
            "HTTP request sent, awaiting response... 200 OK\n",
            "Length: 3376397 (3.2M) [application/octet-stream]\n",
            "Saving to: ‘DYto2E.root’\n",
            "\n",
            "DYto2E.root         100%[===================>]   3.22M  --.-KB/s    in 0.05s   \n",
            "\n",
            "2025-07-14 14:29:35 (60.3 MB/s) - ‘DYto2E.root’ saved [3376397/3376397]\n",
            "\n"
          ]
        }
      ]
    },
    {
      "cell_type": "markdown",
      "source": [
        "## Install libraries"
      ],
      "metadata": {
        "id": "V95KTuykfxfB"
      }
    },
    {
      "cell_type": "code",
      "source": [
        "!pip install awkward hist"
      ],
      "metadata": {
        "colab": {
          "base_uri": "https://localhost:8080/"
        },
        "id": "GK_LAspSbWOH",
        "outputId": "657c4388-f95f-40de-8405-1a17c4aae989"
      },
      "execution_count": null,
      "outputs": [
        {
          "output_type": "stream",
          "name": "stdout",
          "text": [
            "Collecting awkward\n",
            "  Downloading awkward-2.8.5-py3-none-any.whl.metadata (6.9 kB)\n",
            "Collecting hist\n",
            "  Downloading hist-2.8.1-py3-none-any.whl.metadata (16 kB)\n",
            "Collecting awkward-cpp==47 (from awkward)\n",
            "  Downloading awkward_cpp-47-cp311-cp311-manylinux_2_27_x86_64.manylinux_2_28_x86_64.whl.metadata (2.1 kB)\n",
            "Requirement already satisfied: fsspec>=2022.11.0 in /usr/local/lib/python3.11/dist-packages (from awkward) (2025.3.2)\n",
            "Requirement already satisfied: importlib-metadata>=4.13.0 in /usr/local/lib/python3.11/dist-packages (from awkward) (8.7.0)\n",
            "Requirement already satisfied: numpy>=1.18.0 in /usr/local/lib/python3.11/dist-packages (from awkward) (2.0.2)\n",
            "Requirement already satisfied: packaging in /usr/local/lib/python3.11/dist-packages (from awkward) (24.2)\n",
            "Collecting boost-histogram<1.6,>=1.3.1 (from hist)\n",
            "  Downloading boost_histogram-1.5.2-cp311-cp311-manylinux_2_17_x86_64.manylinux2014_x86_64.whl.metadata (23 kB)\n",
            "Collecting histoprint>=2.2.0 (from hist)\n",
            "  Downloading histoprint-2.6.0-py3-none-any.whl.metadata (17 kB)\n",
            "Requirement already satisfied: click>=7.0.0 in /usr/local/lib/python3.11/dist-packages (from histoprint>=2.2.0->hist) (8.2.1)\n",
            "Collecting uhi>=0.2.1 (from histoprint>=2.2.0->hist)\n",
            "  Downloading uhi-0.5.0-py3-none-any.whl.metadata (7.5 kB)\n",
            "Requirement already satisfied: zipp>=3.20 in /usr/local/lib/python3.11/dist-packages (from importlib-metadata>=4.13.0->awkward) (3.23.0)\n",
            "Downloading awkward-2.8.5-py3-none-any.whl (886 kB)\n",
            "\u001b[2K   \u001b[90m━━━━━━━━━━━━━━━━━━━━━━━━━━━━━━━━━━━━━━━━\u001b[0m \u001b[32m886.8/886.8 kB\u001b[0m \u001b[31m23.7 MB/s\u001b[0m eta \u001b[36m0:00:00\u001b[0m\n",
            "\u001b[?25hDownloading awkward_cpp-47-cp311-cp311-manylinux_2_27_x86_64.manylinux_2_28_x86_64.whl (638 kB)\n",
            "\u001b[2K   \u001b[90m━━━━━━━━━━━━━━━━━━━━━━━━━━━━━━━━━━━━━━━━\u001b[0m \u001b[32m638.8/638.8 kB\u001b[0m \u001b[31m40.0 MB/s\u001b[0m eta \u001b[36m0:00:00\u001b[0m\n",
            "\u001b[?25hDownloading hist-2.8.1-py3-none-any.whl (40 kB)\n",
            "\u001b[2K   \u001b[90m━━━━━━━━━━━━━━━━━━━━━━━━━━━━━━━━━━━━━━━━\u001b[0m \u001b[32m40.9/40.9 kB\u001b[0m \u001b[31m3.4 MB/s\u001b[0m eta \u001b[36m0:00:00\u001b[0m\n",
            "\u001b[?25hDownloading boost_histogram-1.5.2-cp311-cp311-manylinux_2_17_x86_64.manylinux2014_x86_64.whl (1.1 MB)\n",
            "\u001b[2K   \u001b[90m━━━━━━━━━━━━━━━━━━━━━━━━━━━━━━━━━━━━━━━━\u001b[0m \u001b[32m1.1/1.1 MB\u001b[0m \u001b[31m55.3 MB/s\u001b[0m eta \u001b[36m0:00:00\u001b[0m\n",
            "\u001b[?25hDownloading histoprint-2.6.0-py3-none-any.whl (16 kB)\n",
            "Downloading uhi-0.5.0-py3-none-any.whl (13 kB)\n",
            "Installing collected packages: uhi, boost-histogram, awkward-cpp, histoprint, awkward, hist\n",
            "Successfully installed awkward-2.8.5 awkward-cpp-47 boost-histogram-1.5.2 hist-2.8.1 histoprint-2.6.0 uhi-0.5.0\n"
          ]
        }
      ]
    },
    {
      "cell_type": "code",
      "source": [
        "!pip install git+https://github.com/scikit-hep/coffea.git@master"
      ],
      "metadata": {
        "colab": {
          "base_uri": "https://localhost:8080/"
        },
        "id": "414sJa7AdrT0",
        "outputId": "c5d90e40-3054-425f-cc57-f075c410c96f"
      },
      "execution_count": null,
      "outputs": [
        {
          "output_type": "stream",
          "name": "stdout",
          "text": [
            "Collecting git+https://github.com/scikit-hep/coffea.git@master\n",
            "  Cloning https://github.com/scikit-hep/coffea.git (to revision master) to /tmp/pip-req-build-tjuiov85\n",
            "  Running command git clone --filter=blob:none --quiet https://github.com/scikit-hep/coffea.git /tmp/pip-req-build-tjuiov85\n",
            "  Resolved https://github.com/scikit-hep/coffea.git to commit 12ef1a59c815af36bdafdd36f1090c7123331fec\n",
            "  Installing build dependencies ... \u001b[?25l\u001b[?25hdone\n",
            "  Getting requirements to build wheel ... \u001b[?25l\u001b[?25hdone\n",
            "  Preparing metadata (pyproject.toml) ... \u001b[?25l\u001b[?25hdone\n",
            "Requirement already satisfied: aiohttp in /usr/local/lib/python3.11/dist-packages (from coffea==2025.7.0rc1.dev3+g12ef1a5) (3.11.15)\n",
            "Requirement already satisfied: awkward>=2.8.2 in /usr/local/lib/python3.11/dist-packages (from coffea==2025.7.0rc1.dev3+g12ef1a5) (2.8.5)\n",
            "Requirement already satisfied: cachetools in /usr/local/lib/python3.11/dist-packages (from coffea==2025.7.0rc1.dev3+g12ef1a5) (5.5.2)\n",
            "Requirement already satisfied: cloudpickle>=1.2.3 in /usr/local/lib/python3.11/dist-packages (from coffea==2025.7.0rc1.dev3+g12ef1a5) (3.1.1)\n",
            "Collecting correctionlib>=2.6.0 (from coffea==2025.7.0rc1.dev3+g12ef1a5)\n",
            "  Downloading correctionlib-2.7.0-cp311-cp311-manylinux_2_17_x86_64.manylinux2014_x86_64.whl.metadata (7.3 kB)\n",
            "Collecting dask-awkward>=2025.5.0 (from coffea==2025.7.0rc1.dev3+g12ef1a5)\n",
            "  Downloading dask_awkward-2025.5.0-py3-none-any.whl.metadata (3.9 kB)\n",
            "Collecting dask-histogram>=2025.2.0 (from coffea==2025.7.0rc1.dev3+g12ef1a5)\n",
            "  Downloading dask_histogram-2025.2.0-py3-none-any.whl.metadata (3.8 kB)\n",
            "Requirement already satisfied: dask>=2024.3.0 in /usr/local/lib/python3.11/dist-packages (from dask[array]>=2024.3.0->coffea==2025.7.0rc1.dev3+g12ef1a5) (2024.12.1)\n",
            "Collecting fsspec-xrootd>=0.2.3 (from coffea==2025.7.0rc1.dev3+g12ef1a5)\n",
            "  Downloading fsspec_xrootd-0.5.1-py3-none-any.whl.metadata (4.0 kB)\n",
            "Requirement already satisfied: hist>=2 in /usr/local/lib/python3.11/dist-packages (from coffea==2025.7.0rc1.dev3+g12ef1a5) (2.8.1)\n",
            "Collecting lz4 (from coffea==2025.7.0rc1.dev3+g12ef1a5)\n",
            "  Downloading lz4-4.4.4-cp311-cp311-manylinux_2_17_x86_64.manylinux2014_x86_64.whl.metadata (3.8 kB)\n",
            "Requirement already satisfied: matplotlib>=3 in /usr/local/lib/python3.11/dist-packages (from coffea==2025.7.0rc1.dev3+g12ef1a5) (3.10.0)\n",
            "Collecting mplhep>=0.1.18 (from coffea==2025.7.0rc1.dev3+g12ef1a5)\n",
            "  Downloading mplhep-0.4.0-py3-none-any.whl.metadata (10 kB)\n",
            "Requirement already satisfied: numba>=0.58.1 in /usr/local/lib/python3.11/dist-packages (from coffea==2025.7.0rc1.dev3+g12ef1a5) (0.60.0)\n",
            "Requirement already satisfied: numpy>=1.22 in /usr/local/lib/python3.11/dist-packages (from coffea==2025.7.0rc1.dev3+g12ef1a5) (2.0.2)\n",
            "Requirement already satisfied: packaging in /usr/local/lib/python3.11/dist-packages (from coffea==2025.7.0rc1.dev3+g12ef1a5) (24.2)\n",
            "Requirement already satisfied: pandas in /usr/local/lib/python3.11/dist-packages (from coffea==2025.7.0rc1.dev3+g12ef1a5) (2.2.2)\n",
            "Requirement already satisfied: pyarrow>=6.0.0 in /usr/local/lib/python3.11/dist-packages (from coffea==2025.7.0rc1.dev3+g12ef1a5) (18.1.0)\n",
            "Requirement already satisfied: requests in /usr/local/lib/python3.11/dist-packages (from coffea==2025.7.0rc1.dev3+g12ef1a5) (2.32.3)\n",
            "Requirement already satisfied: scipy>=1.1.0 in /usr/local/lib/python3.11/dist-packages (from coffea==2025.7.0rc1.dev3+g12ef1a5) (1.15.3)\n",
            "Requirement already satisfied: toml>=0.10.2 in /usr/local/lib/python3.11/dist-packages (from coffea==2025.7.0rc1.dev3+g12ef1a5) (0.10.2)\n",
            "Requirement already satisfied: tqdm>=4.27.0 in /usr/local/lib/python3.11/dist-packages (from coffea==2025.7.0rc1.dev3+g12ef1a5) (4.67.1)\n",
            "Collecting uproot>=5.6.0 (from coffea==2025.7.0rc1.dev3+g12ef1a5)\n",
            "  Downloading uproot-5.6.3-py3-none-any.whl.metadata (33 kB)\n",
            "Collecting vector!=1.6.0,>=1.4.1 (from coffea==2025.7.0rc1.dev3+g12ef1a5)\n",
            "  Downloading vector-1.6.2-py3-none-any.whl.metadata (15 kB)\n",
            "Requirement already satisfied: awkward-cpp==47 in /usr/local/lib/python3.11/dist-packages (from awkward>=2.8.2->coffea==2025.7.0rc1.dev3+g12ef1a5) (47)\n",
            "Requirement already satisfied: fsspec>=2022.11.0 in /usr/local/lib/python3.11/dist-packages (from awkward>=2.8.2->coffea==2025.7.0rc1.dev3+g12ef1a5) (2025.3.2)\n",
            "Requirement already satisfied: importlib-metadata>=4.13.0 in /usr/local/lib/python3.11/dist-packages (from awkward>=2.8.2->coffea==2025.7.0rc1.dev3+g12ef1a5) (8.7.0)\n",
            "Requirement already satisfied: pydantic>=2 in /usr/local/lib/python3.11/dist-packages (from correctionlib>=2.6.0->coffea==2025.7.0rc1.dev3+g12ef1a5) (2.11.7)\n",
            "Requirement already satisfied: rich in /usr/local/lib/python3.11/dist-packages (from correctionlib>=2.6.0->coffea==2025.7.0rc1.dev3+g12ef1a5) (13.9.4)\n",
            "Requirement already satisfied: click>=8.1 in /usr/local/lib/python3.11/dist-packages (from dask>=2024.3.0->dask[array]>=2024.3.0->coffea==2025.7.0rc1.dev3+g12ef1a5) (8.2.1)\n",
            "Requirement already satisfied: partd>=1.4.0 in /usr/local/lib/python3.11/dist-packages (from dask>=2024.3.0->dask[array]>=2024.3.0->coffea==2025.7.0rc1.dev3+g12ef1a5) (1.4.2)\n",
            "Requirement already satisfied: pyyaml>=5.3.1 in /usr/local/lib/python3.11/dist-packages (from dask>=2024.3.0->dask[array]>=2024.3.0->coffea==2025.7.0rc1.dev3+g12ef1a5) (6.0.2)\n",
            "Requirement already satisfied: toolz>=0.10.0 in /usr/local/lib/python3.11/dist-packages (from dask>=2024.3.0->dask[array]>=2024.3.0->coffea==2025.7.0rc1.dev3+g12ef1a5) (0.12.1)\n",
            "Requirement already satisfied: typing-extensions>=4.8.0 in /usr/local/lib/python3.11/dist-packages (from dask-awkward>=2025.5.0->coffea==2025.7.0rc1.dev3+g12ef1a5) (4.14.1)\n",
            "Requirement already satisfied: boost-histogram>=1.3.2 in /usr/local/lib/python3.11/dist-packages (from dask-histogram>=2025.2.0->coffea==2025.7.0rc1.dev3+g12ef1a5) (1.5.2)\n",
            "Requirement already satisfied: histoprint>=2.2.0 in /usr/local/lib/python3.11/dist-packages (from hist>=2->coffea==2025.7.0rc1.dev3+g12ef1a5) (2.6.0)\n",
            "Requirement already satisfied: contourpy>=1.0.1 in /usr/local/lib/python3.11/dist-packages (from matplotlib>=3->coffea==2025.7.0rc1.dev3+g12ef1a5) (1.3.2)\n",
            "Requirement already satisfied: cycler>=0.10 in /usr/local/lib/python3.11/dist-packages (from matplotlib>=3->coffea==2025.7.0rc1.dev3+g12ef1a5) (0.12.1)\n",
            "Requirement already satisfied: fonttools>=4.22.0 in /usr/local/lib/python3.11/dist-packages (from matplotlib>=3->coffea==2025.7.0rc1.dev3+g12ef1a5) (4.58.5)\n",
            "Requirement already satisfied: kiwisolver>=1.3.1 in /usr/local/lib/python3.11/dist-packages (from matplotlib>=3->coffea==2025.7.0rc1.dev3+g12ef1a5) (1.4.8)\n",
            "Requirement already satisfied: pillow>=8 in /usr/local/lib/python3.11/dist-packages (from matplotlib>=3->coffea==2025.7.0rc1.dev3+g12ef1a5) (11.2.1)\n",
            "Requirement already satisfied: pyparsing>=2.3.1 in /usr/local/lib/python3.11/dist-packages (from matplotlib>=3->coffea==2025.7.0rc1.dev3+g12ef1a5) (3.2.3)\n",
            "Requirement already satisfied: python-dateutil>=2.7 in /usr/local/lib/python3.11/dist-packages (from matplotlib>=3->coffea==2025.7.0rc1.dev3+g12ef1a5) (2.9.0.post0)\n",
            "Collecting mplhep-data>=0.0.4 (from mplhep>=0.1.18->coffea==2025.7.0rc1.dev3+g12ef1a5)\n",
            "  Downloading mplhep_data-0.0.4-py3-none-any.whl.metadata (3.4 kB)\n",
            "Requirement already satisfied: uhi>=0.2.0 in /usr/local/lib/python3.11/dist-packages (from mplhep>=0.1.18->coffea==2025.7.0rc1.dev3+g12ef1a5) (0.5.0)\n",
            "Requirement already satisfied: llvmlite<0.44,>=0.43.0dev0 in /usr/local/lib/python3.11/dist-packages (from numba>=0.58.1->coffea==2025.7.0rc1.dev3+g12ef1a5) (0.43.0)\n",
            "Requirement already satisfied: cramjam>=2.5.0 in /usr/local/lib/python3.11/dist-packages (from uproot>=5.6.0->coffea==2025.7.0rc1.dev3+g12ef1a5) (2.10.0)\n",
            "Requirement already satisfied: xxhash in /usr/local/lib/python3.11/dist-packages (from uproot>=5.6.0->coffea==2025.7.0rc1.dev3+g12ef1a5) (3.5.0)\n",
            "Requirement already satisfied: aiohappyeyeballs>=2.3.0 in /usr/local/lib/python3.11/dist-packages (from aiohttp->coffea==2025.7.0rc1.dev3+g12ef1a5) (2.6.1)\n",
            "Requirement already satisfied: aiosignal>=1.1.2 in /usr/local/lib/python3.11/dist-packages (from aiohttp->coffea==2025.7.0rc1.dev3+g12ef1a5) (1.4.0)\n",
            "Requirement already satisfied: attrs>=17.3.0 in /usr/local/lib/python3.11/dist-packages (from aiohttp->coffea==2025.7.0rc1.dev3+g12ef1a5) (25.3.0)\n",
            "Requirement already satisfied: frozenlist>=1.1.1 in /usr/local/lib/python3.11/dist-packages (from aiohttp->coffea==2025.7.0rc1.dev3+g12ef1a5) (1.7.0)\n",
            "Requirement already satisfied: multidict<7.0,>=4.5 in /usr/local/lib/python3.11/dist-packages (from aiohttp->coffea==2025.7.0rc1.dev3+g12ef1a5) (6.6.3)\n",
            "Requirement already satisfied: propcache>=0.2.0 in /usr/local/lib/python3.11/dist-packages (from aiohttp->coffea==2025.7.0rc1.dev3+g12ef1a5) (0.3.2)\n",
            "Requirement already satisfied: yarl<2.0,>=1.17.0 in /usr/local/lib/python3.11/dist-packages (from aiohttp->coffea==2025.7.0rc1.dev3+g12ef1a5) (1.20.1)\n",
            "Requirement already satisfied: pytz>=2020.1 in /usr/local/lib/python3.11/dist-packages (from pandas->coffea==2025.7.0rc1.dev3+g12ef1a5) (2025.2)\n",
            "Requirement already satisfied: tzdata>=2022.7 in /usr/local/lib/python3.11/dist-packages (from pandas->coffea==2025.7.0rc1.dev3+g12ef1a5) (2025.2)\n",
            "Requirement already satisfied: charset-normalizer<4,>=2 in /usr/local/lib/python3.11/dist-packages (from requests->coffea==2025.7.0rc1.dev3+g12ef1a5) (3.4.2)\n",
            "Requirement already satisfied: idna<4,>=2.5 in /usr/local/lib/python3.11/dist-packages (from requests->coffea==2025.7.0rc1.dev3+g12ef1a5) (3.10)\n",
            "Requirement already satisfied: urllib3<3,>=1.21.1 in /usr/local/lib/python3.11/dist-packages (from requests->coffea==2025.7.0rc1.dev3+g12ef1a5) (2.4.0)\n",
            "Requirement already satisfied: certifi>=2017.4.17 in /usr/local/lib/python3.11/dist-packages (from requests->coffea==2025.7.0rc1.dev3+g12ef1a5) (2025.7.9)\n",
            "Requirement already satisfied: zipp>=3.20 in /usr/local/lib/python3.11/dist-packages (from importlib-metadata>=4.13.0->awkward>=2.8.2->coffea==2025.7.0rc1.dev3+g12ef1a5) (3.23.0)\n",
            "Requirement already satisfied: locket in /usr/local/lib/python3.11/dist-packages (from partd>=1.4.0->dask>=2024.3.0->dask[array]>=2024.3.0->coffea==2025.7.0rc1.dev3+g12ef1a5) (1.0.0)\n",
            "Requirement already satisfied: annotated-types>=0.6.0 in /usr/local/lib/python3.11/dist-packages (from pydantic>=2->correctionlib>=2.6.0->coffea==2025.7.0rc1.dev3+g12ef1a5) (0.7.0)\n",
            "Requirement already satisfied: pydantic-core==2.33.2 in /usr/local/lib/python3.11/dist-packages (from pydantic>=2->correctionlib>=2.6.0->coffea==2025.7.0rc1.dev3+g12ef1a5) (2.33.2)\n",
            "Requirement already satisfied: typing-inspection>=0.4.0 in /usr/local/lib/python3.11/dist-packages (from pydantic>=2->correctionlib>=2.6.0->coffea==2025.7.0rc1.dev3+g12ef1a5) (0.4.1)\n",
            "Requirement already satisfied: six>=1.5 in /usr/local/lib/python3.11/dist-packages (from python-dateutil>=2.7->matplotlib>=3->coffea==2025.7.0rc1.dev3+g12ef1a5) (1.17.0)\n",
            "Requirement already satisfied: markdown-it-py>=2.2.0 in /usr/local/lib/python3.11/dist-packages (from rich->correctionlib>=2.6.0->coffea==2025.7.0rc1.dev3+g12ef1a5) (3.0.0)\n",
            "Requirement already satisfied: pygments<3.0.0,>=2.13.0 in /usr/local/lib/python3.11/dist-packages (from rich->correctionlib>=2.6.0->coffea==2025.7.0rc1.dev3+g12ef1a5) (2.19.2)\n",
            "Requirement already satisfied: mdurl~=0.1 in /usr/local/lib/python3.11/dist-packages (from markdown-it-py>=2.2.0->rich->correctionlib>=2.6.0->coffea==2025.7.0rc1.dev3+g12ef1a5) (0.1.2)\n",
            "Downloading correctionlib-2.7.0-cp311-cp311-manylinux_2_17_x86_64.manylinux2014_x86_64.whl (436 kB)\n",
            "\u001b[2K   \u001b[90m━━━━━━━━━━━━━━━━━━━━━━━━━━━━━━━━━━━━━━━━\u001b[0m \u001b[32m436.1/436.1 kB\u001b[0m \u001b[31m17.5 MB/s\u001b[0m eta \u001b[36m0:00:00\u001b[0m\n",
            "\u001b[?25hDownloading dask_awkward-2025.5.0-py3-none-any.whl (90 kB)\n",
            "\u001b[2K   \u001b[90m━━━━━━━━━━━━━━━━━━━━━━━━━━━━━━━━━━━━━━━━\u001b[0m \u001b[32m90.1/90.1 kB\u001b[0m \u001b[31m7.8 MB/s\u001b[0m eta \u001b[36m0:00:00\u001b[0m\n",
            "\u001b[?25hDownloading dask_histogram-2025.2.0-py3-none-any.whl (27 kB)\n",
            "Downloading fsspec_xrootd-0.5.1-py3-none-any.whl (13 kB)\n",
            "Downloading mplhep-0.4.0-py3-none-any.whl (48 kB)\n",
            "\u001b[2K   \u001b[90m━━━━━━━━━━━━━━━━━━━━━━━━━━━━━━━━━━━━━━━━\u001b[0m \u001b[32m48.4/48.4 kB\u001b[0m \u001b[31m3.6 MB/s\u001b[0m eta \u001b[36m0:00:00\u001b[0m\n",
            "\u001b[?25hDownloading uproot-5.6.3-py3-none-any.whl (382 kB)\n",
            "\u001b[2K   \u001b[90m━━━━━━━━━━━━━━━━━━━━━━━━━━━━━━━━━━━━━━━━\u001b[0m \u001b[32m382.8/382.8 kB\u001b[0m \u001b[31m28.1 MB/s\u001b[0m eta \u001b[36m0:00:00\u001b[0m\n",
            "\u001b[?25hDownloading vector-1.6.2-py3-none-any.whl (177 kB)\n",
            "\u001b[2K   \u001b[90m━━━━━━━━━━━━━━━━━━━━━━━━━━━━━━━━━━━━━━━━\u001b[0m \u001b[32m177.8/177.8 kB\u001b[0m \u001b[31m14.5 MB/s\u001b[0m eta \u001b[36m0:00:00\u001b[0m\n",
            "\u001b[?25hDownloading lz4-4.4.4-cp311-cp311-manylinux_2_17_x86_64.manylinux2014_x86_64.whl (1.3 MB)\n",
            "\u001b[2K   \u001b[90m━━━━━━━━━━━━━━━━━━━━━━━━━━━━━━━━━━━━━━━━\u001b[0m \u001b[32m1.3/1.3 MB\u001b[0m \u001b[31m61.3 MB/s\u001b[0m eta \u001b[36m0:00:00\u001b[0m\n",
            "\u001b[?25hDownloading mplhep_data-0.0.4-py3-none-any.whl (9.1 MB)\n",
            "\u001b[2K   \u001b[90m━━━━━━━━━━━━━━━━━━━━━━━━━━━━━━━━━━━━━━━━\u001b[0m \u001b[32m9.1/9.1 MB\u001b[0m \u001b[31m110.2 MB/s\u001b[0m eta \u001b[36m0:00:00\u001b[0m\n",
            "\u001b[?25hBuilding wheels for collected packages: coffea\n",
            "  Building wheel for coffea (pyproject.toml) ... \u001b[?25l\u001b[?25hdone\n",
            "  Created wheel for coffea: filename=coffea-2025.7.0rc1.dev3+g12ef1a5-py3-none-any.whl size=281743 sha256=d5a0d2aff5d60f2558fa396fc75d4c3d13900216d149792e5754164d0f555a9c\n",
            "  Stored in directory: /tmp/pip-ephem-wheel-cache-20nkjrt_/wheels/d3/ef/55/413cff710a7e9fbe7df5ea9455e638b150caacab96d52a8f9a\n",
            "Successfully built coffea\n",
            "Installing collected packages: vector, mplhep-data, lz4, fsspec-xrootd, uproot, mplhep, dask-awkward, correctionlib, dask-histogram, coffea\n",
            "Successfully installed coffea-2025.7.0rc1.dev3+g12ef1a5 correctionlib-2.7.0 dask-awkward-2025.5.0 dask-histogram-2025.2.0 fsspec-xrootd-0.5.1 lz4-4.4.4 mplhep-0.4.0 mplhep-data-0.0.4 uproot-5.6.3 vector-1.6.2\n"
          ]
        }
      ]
    },
    {
      "cell_type": "code",
      "source": [
        "!pip install git+https://github.com/maxymnaumchyk/awkward-zipper.git"
      ],
      "metadata": {
        "colab": {
          "base_uri": "https://localhost:8080/"
        },
        "id": "KegyQ0aWfi-w",
        "outputId": "d76f64ff-b5fc-4274-fcc3-18a4a039e532"
      },
      "execution_count": null,
      "outputs": [
        {
          "output_type": "stream",
          "name": "stdout",
          "text": [
            "Collecting git+https://github.com/maxymnaumchyk/awkward-zipper.git\n",
            "  Cloning https://github.com/maxymnaumchyk/awkward-zipper.git to /tmp/pip-req-build-69lhrk1w\n",
            "  Running command git clone --filter=blob:none --quiet https://github.com/maxymnaumchyk/awkward-zipper.git /tmp/pip-req-build-69lhrk1w\n",
            "  Resolved https://github.com/maxymnaumchyk/awkward-zipper.git to commit 7d7c94e3cd01bc78bf137d190431109a33fbdc9c\n",
            "  Installing build dependencies ... \u001b[?25l\u001b[?25hdone\n",
            "  Getting requirements to build wheel ... \u001b[?25l\u001b[?25hdone\n",
            "  Preparing metadata (pyproject.toml) ... \u001b[?25l\u001b[?25hdone\n",
            "Collecting awkward@ git+https://github.com/scikit-hep/awkward@main (from awkward-zipper==0.0.1)\n",
            "  Cloning https://github.com/scikit-hep/awkward (to revision main) to /tmp/pip-install-pgawn305/awkward_a506a61a23f0411ea76b466d984bf4b9\n",
            "  Running command git clone --filter=blob:none --quiet https://github.com/scikit-hep/awkward /tmp/pip-install-pgawn305/awkward_a506a61a23f0411ea76b466d984bf4b9\n",
            "  Resolved https://github.com/scikit-hep/awkward to commit 03688c265934e69cd0d255d0eeb8716dbaffc145\n",
            "  Running command git submodule update --init --recursive -q\n",
            "  Installing build dependencies ... \u001b[?25l\u001b[?25hdone\n",
            "  Getting requirements to build wheel ... \u001b[?25l\u001b[?25hdone\n",
            "  Preparing metadata (pyproject.toml) ... \u001b[?25l\u001b[?25hdone\n",
            "Requirement already satisfied: numba in /usr/local/lib/python3.11/dist-packages (from awkward-zipper==0.0.1) (0.60.0)\n",
            "Requirement already satisfied: vector in /usr/local/lib/python3.11/dist-packages (from awkward-zipper==0.0.1) (1.6.2)\n",
            "Requirement already satisfied: awkward-cpp==47 in /usr/local/lib/python3.11/dist-packages (from awkward@ git+https://github.com/scikit-hep/awkward@main->awkward-zipper==0.0.1) (47)\n",
            "Requirement already satisfied: fsspec>=2022.11.0 in /usr/local/lib/python3.11/dist-packages (from awkward@ git+https://github.com/scikit-hep/awkward@main->awkward-zipper==0.0.1) (2025.3.2)\n",
            "Requirement already satisfied: importlib-metadata>=4.13.0 in /usr/local/lib/python3.11/dist-packages (from awkward@ git+https://github.com/scikit-hep/awkward@main->awkward-zipper==0.0.1) (8.7.0)\n",
            "Requirement already satisfied: numpy>=1.18.0 in /usr/local/lib/python3.11/dist-packages (from awkward@ git+https://github.com/scikit-hep/awkward@main->awkward-zipper==0.0.1) (2.0.2)\n",
            "Requirement already satisfied: packaging in /usr/local/lib/python3.11/dist-packages (from awkward@ git+https://github.com/scikit-hep/awkward@main->awkward-zipper==0.0.1) (24.2)\n",
            "Requirement already satisfied: llvmlite<0.44,>=0.43.0dev0 in /usr/local/lib/python3.11/dist-packages (from numba->awkward-zipper==0.0.1) (0.43.0)\n",
            "Requirement already satisfied: zipp>=3.20 in /usr/local/lib/python3.11/dist-packages (from importlib-metadata>=4.13.0->awkward@ git+https://github.com/scikit-hep/awkward@main->awkward-zipper==0.0.1) (3.23.0)\n",
            "Building wheels for collected packages: awkward-zipper\n",
            "  Building wheel for awkward-zipper (pyproject.toml) ... \u001b[?25l\u001b[?25hdone\n",
            "  Created wheel for awkward-zipper: filename=awkward_zipper-0.0.1-py3-none-any.whl size=24548 sha256=f46e70a2016aabaff10dea18aadc1731b58bea784877a25f351344a876334852\n",
            "  Stored in directory: /tmp/pip-ephem-wheel-cache-7kpi1ltd/wheels/13/ff/6a/a86ac1ebbfd7f56ba74dec9ccffa35df23b6890fac28284fed\n",
            "Successfully built awkward-zipper\n",
            "Installing collected packages: awkward-zipper\n",
            "Successfully installed awkward-zipper-0.0.1\n"
          ]
        }
      ]
    },
    {
      "cell_type": "markdown",
      "source": [
        "Use a branch from main to load virtual arrays with uproot"
      ],
      "metadata": {
        "id": "PtX568RfhWJc"
      }
    },
    {
      "cell_type": "code",
      "source": [
        "!pip install uproot@git+https://github.com/scikit-hep/uproot5@pfackeldey/uproot_lazy"
      ],
      "metadata": {
        "colab": {
          "base_uri": "https://localhost:8080/"
        },
        "id": "SinQ4-BphQTt",
        "outputId": "a6efc9a5-62ae-40d8-d2ae-2bbc6e7dfb39"
      },
      "execution_count": null,
      "outputs": [
        {
          "output_type": "stream",
          "name": "stdout",
          "text": [
            "Collecting uproot@ git+https://github.com/scikit-hep/uproot5@pfackeldey/uproot_lazy\n",
            "  Cloning https://github.com/scikit-hep/uproot5 (to revision pfackeldey/uproot_lazy) to /tmp/pip-install-_849_ubv/uproot_3c48d46d02014551a8a1ab101baee933\n",
            "  Running command git clone --filter=blob:none --quiet https://github.com/scikit-hep/uproot5 /tmp/pip-install-_849_ubv/uproot_3c48d46d02014551a8a1ab101baee933\n",
            "  Running command git checkout -b pfackeldey/uproot_lazy --track origin/pfackeldey/uproot_lazy\n",
            "  Switched to a new branch 'pfackeldey/uproot_lazy'\n",
            "  Branch 'pfackeldey/uproot_lazy' set up to track remote branch 'pfackeldey/uproot_lazy' from 'origin'.\n",
            "  Resolved https://github.com/scikit-hep/uproot5 to commit f8a3461cdeba7ae5a909898ff14e881aa380d986\n",
            "  Installing build dependencies ... \u001b[?25l\u001b[?25hdone\n",
            "  Getting requirements to build wheel ... \u001b[?25l\u001b[?25hdone\n",
            "  Preparing metadata (pyproject.toml) ... \u001b[?25l\u001b[?25hdone\n",
            "Requirement already satisfied: awkward>=2.8.2 in /usr/local/lib/python3.11/dist-packages (from uproot@ git+https://github.com/scikit-hep/uproot5@pfackeldey/uproot_lazy) (2.8.5)\n",
            "Requirement already satisfied: cramjam>=2.5.0 in /usr/local/lib/python3.11/dist-packages (from uproot@ git+https://github.com/scikit-hep/uproot5@pfackeldey/uproot_lazy) (2.10.0)\n",
            "Requirement already satisfied: fsspec in /usr/local/lib/python3.11/dist-packages (from uproot@ git+https://github.com/scikit-hep/uproot5@pfackeldey/uproot_lazy) (2025.3.2)\n",
            "Requirement already satisfied: numpy in /usr/local/lib/python3.11/dist-packages (from uproot@ git+https://github.com/scikit-hep/uproot5@pfackeldey/uproot_lazy) (2.0.2)\n",
            "Requirement already satisfied: packaging in /usr/local/lib/python3.11/dist-packages (from uproot@ git+https://github.com/scikit-hep/uproot5@pfackeldey/uproot_lazy) (24.2)\n",
            "Requirement already satisfied: xxhash in /usr/local/lib/python3.11/dist-packages (from uproot@ git+https://github.com/scikit-hep/uproot5@pfackeldey/uproot_lazy) (3.5.0)\n",
            "Requirement already satisfied: awkward-cpp==47 in /usr/local/lib/python3.11/dist-packages (from awkward>=2.8.2->uproot@ git+https://github.com/scikit-hep/uproot5@pfackeldey/uproot_lazy) (47)\n",
            "Requirement already satisfied: importlib-metadata>=4.13.0 in /usr/local/lib/python3.11/dist-packages (from awkward>=2.8.2->uproot@ git+https://github.com/scikit-hep/uproot5@pfackeldey/uproot_lazy) (8.7.0)\n",
            "Requirement already satisfied: zipp>=3.20 in /usr/local/lib/python3.11/dist-packages (from importlib-metadata>=4.13.0->awkward>=2.8.2->uproot@ git+https://github.com/scikit-hep/uproot5@pfackeldey/uproot_lazy) (3.23.0)\n",
            "Building wheels for collected packages: uproot\n",
            "  Building wheel for uproot (pyproject.toml) ... \u001b[?25l\u001b[?25hdone\n",
            "  Created wheel for uproot: filename=uproot-5.6.3.dev29+gf8a3461-py3-none-any.whl size=377233 sha256=04d5b597d5f7b0ff30ce100a94a88b11027b16608b0f4265a9766dd893936f1f\n",
            "  Stored in directory: /tmp/pip-ephem-wheel-cache-vmpxod2y/wheels/6d/4a/38/cca594ce698fdd158d6039640034edca9dda20c890c171703a\n",
            "Successfully built uproot\n",
            "Installing collected packages: uproot\n",
            "  Attempting uninstall: uproot\n",
            "    Found existing installation: uproot 5.6.3\n",
            "    Uninstalling uproot-5.6.3:\n",
            "      Successfully uninstalled uproot-5.6.3\n",
            "Successfully installed uproot-5.6.3.dev29+gf8a3461\n"
          ]
        }
      ]
    },
    {
      "cell_type": "markdown",
      "source": [
        "## Helper functions for data loading"
      ],
      "metadata": {
        "id": "-Ym5kbHDf5e2"
      }
    },
    {
      "cell_type": "code",
      "execution_count": null,
      "metadata": {
        "id": "o-jv4wUFbFCy"
      },
      "outputs": [],
      "source": [
        "import awkward as ak\n",
        "import numpy as np\n",
        "import hist\n",
        "from matplotlib import pyplot as plt\n",
        "from coffea.nanoevents import NanoEventsFactory, NanoAODSchema, BaseSchema\n",
        "\n",
        "import awkward_zipper\n",
        "import uproot\n",
        "\n",
        "\n",
        "def make_events_coffea(file, schemaclass=NanoAODSchema):\n",
        "    access_log = []\n",
        "    events = NanoEventsFactory.from_root(\n",
        "        {file: \"Events\"},\n",
        "        mode=\"virtual\",\n",
        "        schemaclass=schemaclass,\n",
        "        metadata={\"dataset\": file.removeprefix(\"data/\").removesuffix(\".root\")},\n",
        "        access_log=access_log\n",
        "    ).events()\n",
        "    return events, access_log\n",
        "\n",
        "def make_events_zipper(file):\n",
        "    access_log = []\n",
        "    # Create a TTree from root\n",
        "    tree = uproot.open(file)[\"Events\"]\n",
        "    # TTree -> awkward.Array[awkward.Record[str, awkward.Array]]\n",
        "    array = tree.virtual_arrays(ak_add_doc=True, access_log=access_log)\n",
        "\n",
        "    # construct an awkward array using awkward-zipper\n",
        "    restructure = awkward_zipper.NanoAOD(version=\"latest\")\n",
        "    zipper_array = restructure(array)\n",
        "    return zipper_array, access_log"
      ]
    },
    {
      "cell_type": "code",
      "source": [
        "root_file = \"DYto2E.root\"\n",
        "events_coffea, access_log_coffea = make_events_coffea(root_file)\n",
        "access_log_coffea"
      ],
      "metadata": {
        "colab": {
          "base_uri": "https://localhost:8080/"
        },
        "id": "91n3mqWpbqYt",
        "outputId": "a7c12020-28f3-4f72-99a5-be16059dc2ca"
      },
      "execution_count": null,
      "outputs": [
        {
          "output_type": "execute_result",
          "data": {
            "text/plain": [
              "[]"
            ]
          },
          "metadata": {},
          "execution_count": 23
        }
      ]
    },
    {
      "cell_type": "code",
      "source": [
        "events_zipper, access_log_zipper = make_events_zipper(root_file)\n",
        "access_log_zipper"
      ],
      "metadata": {
        "colab": {
          "base_uri": "https://localhost:8080/"
        },
        "id": "sg8nHFrHglUF",
        "outputId": "c6b5eeeb-380c-44ae-9b57-081aba31a6e8"
      },
      "execution_count": null,
      "outputs": [
        {
          "output_type": "execute_result",
          "data": {
            "text/plain": [
              "[]"
            ]
          },
          "metadata": {},
          "execution_count": 24
        }
      ]
    },
    {
      "cell_type": "markdown",
      "source": [
        "## Plot the diagrams"
      ],
      "metadata": {
        "id": "6dV4PVEigAD9"
      }
    },
    {
      "cell_type": "markdown",
      "source": [
        "Here we will plot two histograms on top of each other to see if there are any differencies between zipper and coffea"
      ],
      "metadata": {
        "id": "WC1JcdqupOgl"
      }
    },
    {
      "cell_type": "code",
      "source": [
        "events_coffea, access_log_coffea = make_events_coffea(root_file)\n",
        "events_zipper, access_log_zipper = make_events_zipper(root_file)\n",
        "\n",
        "q1_hist = hist.Hist.new.Reg(100, 0, 200, name=\"met\", label=\"$E_{T}^{miss}$ [GeV]\").Double().fill(events_coffea.MET.pt)\n",
        "q12_hist = hist.Hist.new.Reg(100, 0, 200, name=\"met\", label=\"$E_{T}^{miss}$ [GeV]\").Double().fill(events_zipper.MET.pt)\n",
        "\n",
        "q1_hist.plot1d(flow=\"none\")\n",
        "q12_hist.plot1d(flow=\"none\")\n",
        "plt.show()\n",
        "print('access_log_coffea:', access_log_coffea)\n",
        "print('access_log_zipper:', access_log_zipper)"
      ],
      "metadata": {
        "colab": {
          "base_uri": "https://localhost:8080/",
          "height": 492
        },
        "id": "Ye5RG8lmcegV",
        "outputId": "61179c5c-654d-4ce2-a6d3-59008646eb75"
      },
      "execution_count": null,
      "outputs": [
        {
          "output_type": "display_data",
          "data": {
            "text/plain": [
              "<Figure size 640x480 with 1 Axes>"
            ],
            "image/png": "[encoded data removed]"
          },
          "metadata": {}
        },
        {
          "output_type": "stream",
          "name": "stdout",
          "text": [
            "access_log_coffea: ['MET_pt']\n",
            "access_log_zipper: [Accessed(branch='MET_pt', buffer_key=\"('<root>', 'MET_pt')-data\")]\n"
          ]
        }
      ]
    },
    {
      "cell_type": "code",
      "source": [
        "def plot_two_hists(make_events):\n",
        "    events, access_log = make_events(root_file)\n",
        "\n",
        "    q2_hist = hist.Hist.new.Reg(100, 0, 200, name=\"ptj\", label=\"Jet $p_{T}$ [GeV]\").Double().fill(ak.flatten(events.Jet.pt))\n",
        "\n",
        "    return access_log, q2_hist\n",
        "\n",
        "access_log_coffea, q2_hist = plot_two_hists(make_events_coffea)\n",
        "access_log_zipper, q21_hist = plot_two_hists(make_events_zipper)\n",
        "\n",
        "q2_hist.plot1d(flow=\"none\")\n",
        "q21_hist.plot1d(flow=\"none\")\n",
        "\n",
        "plt.show()\n",
        "print('access_log_coffea:', access_log_coffea)\n",
        "print('access_log_zipper:', access_log_zipper)"
      ],
      "metadata": {
        "colab": {
          "base_uri": "https://localhost:8080/",
          "height": 488
        },
        "id": "6I9b4Js_e5oI",
        "outputId": "21786945-d0f6-4117-d95e-b08b4f148231"
      },
      "execution_count": null,
      "outputs": [
        {
          "output_type": "display_data",
          "data": {
            "text/plain": [
              "<Figure size 640x480 with 1 Axes>"
            ],
            "image/png": "[encoded data removed]"
          },
          "metadata": {}
        },
        {
          "output_type": "stream",
          "name": "stdout",
          "text": [
            "access_log_coffea: ['nJet', 'Jet_pt']\n",
            "access_log_zipper: [Accessed(branch='nJet', buffer_key=\"('<root>', 'nJet')-data\"), Accessed(branch='Jet_pt', buffer_key=\"('<root>', 'Jet_pt', None)-data\")]\n"
          ]
        }
      ]
    },
    {
      "cell_type": "code",
      "source": [
        "def plot_two_hists(make_events):\n",
        "    events, access_log = make_events(root_file)\n",
        "\n",
        "    q3_hist = (\n",
        "    hist.Hist.new.Reg(100, 0, 200, name=\"ptj\", label=\"Jet $p_{T}$ [GeV]\")\n",
        "    .Double()\n",
        "    .fill(ak.flatten(events.Jet[abs(events.Jet.eta) < 1].pt))\n",
        "    )\n",
        "\n",
        "    return access_log, q3_hist\n",
        "\n",
        "access_log_coffea, q3_hist = plot_two_hists(make_events_coffea)\n",
        "access_log_zipper, q31_hist = plot_two_hists(make_events_zipper)\n",
        "\n",
        "q3_hist.plot1d(flow=\"none\")\n",
        "q31_hist.plot1d(flow=\"none\")\n",
        "\n",
        "plt.show()\n",
        "print('access_log_coffea:', access_log_coffea)\n",
        "print('access_log_zipper:', access_log_zipper)"
      ],
      "metadata": {
        "colab": {
          "base_uri": "https://localhost:8080/",
          "height": 508
        },
        "id": "lFlY98C3fHE6",
        "outputId": "4735da48-513e-4d41-d51d-44f6df5ba627"
      },
      "execution_count": null,
      "outputs": [
        {
          "output_type": "display_data",
          "data": {
            "text/plain": [
              "<Figure size 640x480 with 1 Axes>"
            ],
            "image/png": "[encoded data removed]"
          },
          "metadata": {}
        },
        {
          "output_type": "stream",
          "name": "stdout",
          "text": [
            "access_log_coffea: ['nJet', 'Jet_eta', 'Jet_pt']\n",
            "access_log_zipper: [Accessed(branch='nJet', buffer_key=\"('<root>', 'nJet')-data\"), Accessed(branch='Jet_eta', buffer_key=\"('<root>', 'Jet_eta', None)-data\"), Accessed(branch='Jet_pt', buffer_key=\"('<root>', 'Jet_pt', None)-data\")]\n"
          ]
        }
      ]
    },
    {
      "cell_type": "code",
      "source": [
        "def plot_two_hists(make_events):\n",
        "    events, access_log = make_events(root_file)\n",
        "\n",
        "    has2jets = ak.sum(events.Jet.pt > 40, axis=1) >= 2\n",
        "    q4_hist = (\n",
        "        hist.Hist.new.Reg(100, 0, 200, name=\"met\", label=\"$E_{T}^{miss}$ [GeV]\").Double().fill(events[has2jets].MET.pt)\n",
        "    )\n",
        "\n",
        "    return access_log, q4_hist\n",
        "\n",
        "access_log_coffea, q4_hist = plot_two_hists(make_events_coffea)\n",
        "access_log_zipper, q41_hist = plot_two_hists(make_events_zipper)\n",
        "\n",
        "q4_hist.plot1d(flow=\"none\")\n",
        "q41_hist.plot1d(flow=\"none\")\n",
        "\n",
        "plt.show()\n",
        "print('access_log_coffea:', access_log_coffea)\n",
        "print('access_log_zipper:', access_log_zipper)"
      ],
      "metadata": {
        "colab": {
          "base_uri": "https://localhost:8080/",
          "height": 512
        },
        "id": "MdGZ-nNbgkX8",
        "outputId": "8a9e17c1-2259-4d03-cdd3-cef4f6d714b8"
      },
      "execution_count": null,
      "outputs": [
        {
          "output_type": "display_data",
          "data": {
            "text/plain": [
              "<Figure size 640x480 with 1 Axes>"
            ],
            "image/png": "[encoded data removed]"
          },
          "metadata": {}
        },
        {
          "output_type": "stream",
          "name": "stdout",
          "text": [
            "access_log_coffea: ['nJet', 'Jet_pt', 'MET_pt']\n",
            "access_log_zipper: [Accessed(branch='nJet', buffer_key=\"('<root>', 'nJet')-data\"), Accessed(branch='Jet_pt', buffer_key=\"('<root>', 'Jet_pt', None)-data\"), Accessed(branch='MET_pt', buffer_key=\"('<root>', 'MET_pt')-data\")]\n"
          ]
        }
      ]
    },
    {
      "cell_type": "code",
      "source": [
        "def plot_two_hists(make_events):\n",
        "    events, access_log = make_events(root_file)\n",
        "\n",
        "    mupair = ak.combinations(events.Muon, 2, fields=[\"mu1\", \"mu2\"])\n",
        "    pairmass = (mupair.mu1 + mupair.mu2).mass\n",
        "    goodevent = ak.any(\n",
        "        (pairmass > 60) & (pairmass < 120) & (mupair.mu1.charge == -mupair.mu2.charge),\n",
        "        axis=1,\n",
        "    )\n",
        "    q5_hist = (\n",
        "        hist.Hist.new.Reg(100, 0, 200, name=\"met\", label=\"$E_{T}^{miss}$ [GeV]\").Double().fill(events[goodevent].MET.pt)\n",
        "    )\n",
        "\n",
        "    return access_log, q5_hist\n",
        "\n",
        "access_log_coffea, q5_hist = plot_two_hists(make_events_coffea)\n",
        "access_log_zipper, q51_hist = plot_two_hists(make_events_zipper)\n",
        "\n",
        "q5_hist.plot1d(flow=\"none\")\n",
        "q51_hist.plot1d(flow=\"none\")\n",
        "\n",
        "plt.show()\n",
        "print('access_log_coffea:', access_log_coffea)\n",
        "print('access_log_zipper:', access_log_zipper)"
      ],
      "metadata": {
        "colab": {
          "base_uri": "https://localhost:8080/",
          "height": 581
        },
        "id": "wnSc_96Ihd-T",
        "outputId": "3dc0436e-e5b2-4905-d328-adb501d64ac0"
      },
      "execution_count": null,
      "outputs": [
        {
          "output_type": "stream",
          "name": "stderr",
          "text": [
            "/usr/local/lib/python3.11/dist-packages/mplhep/utils.py:652: RuntimeWarning: All sumw are zero!  Cannot compute meaningful error bars\n",
            "  return np.abs(method_fcn(self.values(), variances) - self.values())\n",
            "/usr/local/lib/python3.11/dist-packages/mplhep/utils.py:652: RuntimeWarning: All sumw are zero!  Cannot compute meaningful error bars\n",
            "  return np.abs(method_fcn(self.values(), variances) - self.values())\n"
          ]
        },
        {
          "output_type": "display_data",
          "data": {
            "text/plain": [
              "<Figure size 640x480 with 1 Axes>"
            ],
            "image/png": "[encoded data removed]"
          },
          "metadata": {}
        },
        {
          "output_type": "stream",
          "name": "stdout",
          "text": [
            "access_log_coffea: ['nMuon', 'Muon_pt', 'Muon_phi', 'Muon_eta', 'Muon_mass', 'Muon_charge', 'MET_pt']\n",
            "access_log_zipper: [Accessed(branch='nMuon', buffer_key=\"('<root>', 'nMuon')-data\"), Accessed(branch='Muon_pt', buffer_key=\"('<root>', 'Muon_pt', None)-data\"), Accessed(branch='Muon_phi', buffer_key=\"('<root>', 'Muon_phi', None)-data\"), Accessed(branch='Muon_eta', buffer_key=\"('<root>', 'Muon_eta', None)-data\"), Accessed(branch='Muon_mass', buffer_key=\"('<root>', 'Muon_mass', None)-data\"), Accessed(branch='Muon_charge', buffer_key=\"('<root>', 'Muon_charge', None)-data\"), Accessed(branch='MET_pt', buffer_key=\"('<root>', 'MET_pt')-data\")]\n"
          ]
        }
      ]
    },
    {
      "cell_type": "code",
      "source": [
        "def plot_two_hists(make_events):\n",
        "    events, access_log = make_events(root_file)\n",
        "\n",
        "    jets = ak.zip(\n",
        "        {k: getattr(events.Jet, k) for k in [\"x\", \"y\", \"z\", \"t\", \"btagDeepFlavB\"]},\n",
        "        with_name=\"LorentzVector\",\n",
        "        behavior=events.Jet.behavior,\n",
        "    )\n",
        "    jets[\"btag\"] = jets.btagDeepFlavB\n",
        "    trijet = ak.combinations(jets, 3, fields=[\"j1\", \"j2\", \"j3\"])\n",
        "    trijet[\"p4\"] = trijet.j1 + trijet.j2 + trijet.j3\n",
        "    trijet = ak.flatten(trijet[ak.singletons(ak.argmin(abs(trijet.p4.mass - 172.5), axis=1))])\n",
        "    maxBtag = np.maximum(\n",
        "        trijet.j1.btag,\n",
        "        np.maximum(\n",
        "            trijet.j2.btag,\n",
        "            trijet.j3.btag,\n",
        "        ),\n",
        "    )\n",
        "    q6_hists = {\n",
        "        \"trijetpt\": hist.Hist.new.Reg(100, 0, 200, name=\"pt3j\", label=\"Trijet $p_{T}$ [GeV]\").Double().fill(trijet.p4.pt),\n",
        "        \"maxbtag\": hist.Hist.new.Reg(100, 0, 1, name=\"btag\", label=\"Max jet b-tag score\").Double().fill(maxBtag),\n",
        "    }\n",
        "\n",
        "    return access_log, q6_hists\n",
        "\n",
        "access_log_coffea, q6_hists = plot_two_hists(make_events_coffea)\n",
        "access_log_zipper, q61_hists = plot_two_hists(make_events_zipper)\n",
        "\n",
        "#coffea\n",
        "out1 = q6_hists\n",
        "fig, (ax1, ax2) = plt.subplots(1, 2, figsize=(8, 4), sharey=True)\n",
        "out1[\"trijetpt\"].plot1d(ax=ax1, flow=\"none\")\n",
        "out1[\"maxbtag\"].plot1d(ax=ax2, flow=\"none\")\n",
        "\n",
        "#zipper\n",
        "out2 = q61_hists\n",
        "out2[\"trijetpt\"].plot1d(ax=ax1, flow=\"none\")\n",
        "out2[\"maxbtag\"].plot1d(ax=ax2, flow=\"none\")\n",
        "\n",
        "plt.show()\n",
        "print('access_log_coffea:', access_log_coffea)\n",
        "print('access_log_zipper:', access_log_zipper)"
      ],
      "metadata": {
        "colab": {
          "base_uri": "https://localhost:8080/",
          "height": 447
        },
        "id": "z9YSfWh1hbX8",
        "outputId": "618c1fcc-03c9-4af9-a1d1-0ee66b6baff2"
      },
      "execution_count": null,
      "outputs": [
        {
          "output_type": "display_data",
          "data": {
            "text/plain": [
              "<Figure size 800x400 with 2 Axes>"
            ],
            "image/png": "[encoded data removed]"
          },
          "metadata": {}
        },
        {
          "output_type": "stream",
          "name": "stdout",
          "text": [
            "access_log_coffea: ['nJet', 'Jet_phi', 'Jet_pt', 'Jet_eta', 'Jet_mass', 'Jet_btagDeepFlavB']\n",
            "access_log_zipper: [Accessed(branch='nJet', buffer_key=\"('<root>', 'nJet')-data\"), Accessed(branch='Jet_phi', buffer_key=\"('<root>', 'Jet_phi', None)-data\"), Accessed(branch='Jet_pt', buffer_key=\"('<root>', 'Jet_pt', None)-data\"), Accessed(branch='Jet_eta', buffer_key=\"('<root>', 'Jet_eta', None)-data\"), Accessed(branch='Jet_mass', buffer_key=\"('<root>', 'Jet_mass', None)-data\"), Accessed(branch='Jet_btagDeepFlavB', buffer_key=\"('<root>', 'Jet_btagDeepFlavB', None)-data\")]\n"
          ]
        }
      ]
    },
    {
      "cell_type": "code",
      "source": [
        "def plot_two_hists(make_events):\n",
        "    events, access_log = make_events(root_file)\n",
        "\n",
        "    cleanjets = events.Jet[\n",
        "        ak.all(events.Jet.metric_table(events.Muon[events.Muon.pt > 10]) >= 0.4, axis=2)\n",
        "        & ak.all(\n",
        "            events.Jet.metric_table(events.Electron[events.Electron.pt > 10]) >= 0.4,\n",
        "            axis=2,\n",
        "        )\n",
        "        & (events.Jet.pt > 30)\n",
        "    ]\n",
        "    q7_hist = (\n",
        "        hist.Hist.new.Reg(100, 0, 200, name=\"sumjetpt\", label=r\"Jet $\\sum p_{T}$ [GeV]\")\n",
        "        .Double()\n",
        "        .fill(ak.sum(cleanjets.pt, axis=1))\n",
        "    )\n",
        "\n",
        "    return access_log, q7_hist\n",
        "\n",
        "access_log_coffea, q7_hist = plot_two_hists(make_events_coffea)\n",
        "access_log_zipper, q71_hist = plot_two_hists(make_events_zipper)\n",
        "\n",
        "q7_hist.plot1d(flow=\"none\")\n",
        "q71_hist.plot1d(flow=\"none\")\n",
        "\n",
        "plt.show()\n",
        "print('access_log_coffea:', access_log_coffea)\n",
        "print('access_log_zipper:', access_log_zipper)"
      ],
      "metadata": {
        "colab": {
          "base_uri": "https://localhost:8080/",
          "height": 512
        },
        "id": "X0ziLDnMhbdD",
        "outputId": "ece82c65-1c20-4708-abe7-8bcd4ecbb470"
      },
      "execution_count": null,
      "outputs": [
        {
          "output_type": "display_data",
          "data": {
            "text/plain": [
              "<Figure size 640x480 with 1 Axes>"
            ],
            "image/png": "[encoded data removed]"
          },
          "metadata": {}
        },
        {
          "output_type": "stream",
          "name": "stdout",
          "text": [
            "access_log_coffea: ['nMuon', 'Muon_pt', 'nJet', 'Jet_pt', 'Jet_phi', 'Jet_eta', 'Muon_phi', 'Muon_eta', 'nElectron', 'Electron_pt', 'Electron_phi', 'Electron_eta']\n",
            "access_log_zipper: [Accessed(branch='nMuon', buffer_key=\"('<root>', 'nMuon')-data\"), Accessed(branch='Muon_pt', buffer_key=\"('<root>', 'Muon_pt', None)-data\"), Accessed(branch='nJet', buffer_key=\"('<root>', 'nJet')-data\"), Accessed(branch='Jet_pt', buffer_key=\"('<root>', 'Jet_pt', None)-data\"), Accessed(branch='Jet_phi', buffer_key=\"('<root>', 'Jet_phi', None)-data\"), Accessed(branch='Jet_eta', buffer_key=\"('<root>', 'Jet_eta', None)-data\"), Accessed(branch='Muon_phi', buffer_key=\"('<root>', 'Muon_phi', None)-data\"), Accessed(branch='Muon_eta', buffer_key=\"('<root>', 'Muon_eta', None)-data\"), Accessed(branch='nElectron', buffer_key=\"('<root>', 'nElectron')-data\"), Accessed(branch='Electron_pt', buffer_key=\"('<root>', 'Electron_pt', None)-data\"), Accessed(branch='Electron_phi', buffer_key=\"('<root>', 'Electron_phi', None)-data\"), Accessed(branch='Electron_eta', buffer_key=\"('<root>', 'Electron_eta', None)-data\")]\n"
          ]
        }
      ]
    },
    {
      "cell_type": "code",
      "source": [
        "def plot_two_hists(make_events):\n",
        "    events, access_log = make_events(root_file)\n",
        "\n",
        "    events[\"Electron\", \"pdgId\"] = -11 * events.Electron.charge\n",
        "    events[\"Muon\", \"pdgId\"] = -13 * events.Muon.charge\n",
        "    events[\"leptons\"] = ak.with_name(\n",
        "        ak.concatenate(\n",
        "            [events.Electron, events.Muon],\n",
        "            axis=1,\n",
        "        ),\n",
        "        \"PtEtaPhiMCandidate\",\n",
        "    )\n",
        "    events = events[ak.num(events.leptons) >= 3]\n",
        "    pair = ak.argcombinations(events.leptons, 2, fields=[\"l1\", \"l2\"])\n",
        "    pair = pair[(events.leptons[pair.l1].pdgId == -events.leptons[pair.l2].pdgId)]\n",
        "\n",
        "    pair = pair[\n",
        "        ak.singletons(\n",
        "            ak.argmin(\n",
        "                abs((events.leptons[pair.l1] + events.leptons[pair.l2]).mass - 91.2),\n",
        "                axis=1,\n",
        "            )\n",
        "        )\n",
        "    ]\n",
        "\n",
        "    events = events[ak.num(pair) > 0]\n",
        "    pair = pair[ak.num(pair) > 0][:, 0]\n",
        "\n",
        "    l3 = ak.local_index(events.leptons)\n",
        "    l3 = l3[(l3 != pair.l1) & (l3 != pair.l2)]\n",
        "    l3 = l3[ak.argmax(events.leptons[l3].pt, axis=1, keepdims=True)]\n",
        "    l3 = events.leptons[l3][:, 0]\n",
        "\n",
        "    mt = np.sqrt(2 * l3.pt * events.MET.pt * (1 - np.cos(events.MET.delta_phi(l3))))\n",
        "    q8_hist = hist.Hist.new.Reg(100, 0, 200, name=\"mt\", label=r\"$\\ell$-MET transverse mass [GeV]\").Double().fill(mt)\n",
        "\n",
        "\n",
        "    return access_log, q8_hist\n",
        "\n",
        "access_log_coffea, q8_hist = plot_two_hists(make_events_coffea)\n",
        "access_log_zipper, q81_hist = plot_two_hists(make_events_zipper)\n",
        "\n",
        "q8_hist.plot1d(flow=\"none\")\n",
        "q81_hist.plot1d(flow=\"none\")\n",
        "\n",
        "plt.show()\n",
        "print('access_log_coffea:', access_log_coffea)\n",
        "print('access_log_zipper:', access_log_zipper)"
      ],
      "metadata": {
        "colab": {
          "base_uri": "https://localhost:8080/",
          "height": 508
        },
        "id": "ODmRjWAzjUgy",
        "outputId": "639d9de7-4498-433d-bebc-7895af133476"
      },
      "execution_count": null,
      "outputs": [
        {
          "output_type": "display_data",
          "data": {
            "text/plain": [
              "<Figure size 640x480 with 1 Axes>"
            ],
            "image/png": "[encoded data removed]"
          },
          "metadata": {}
        },
        {
          "output_type": "stream",
          "name": "stdout",
          "text": [
            "access_log_coffea: ['nElectron', 'Electron_charge', 'nMuon', 'Muon_charge', 'Electron_pt', 'Electron_phi', 'Electron_eta', 'Electron_mass', 'Muon_pt', 'Muon_phi', 'Muon_eta', 'Muon_mass', 'MET_pt', 'MET_phi']\n",
            "access_log_zipper: [Accessed(branch='nElectron', buffer_key=\"('<root>', 'nElectron')-data\"), Accessed(branch='Electron_charge', buffer_key=\"('<root>', 'Electron_charge', None)-data\"), Accessed(branch='nMuon', buffer_key=\"('<root>', 'nMuon')-data\"), Accessed(branch='Muon_charge', buffer_key=\"('<root>', 'Muon_charge', None)-data\"), Accessed(branch='Electron_pt', buffer_key=\"('<root>', 'Electron_pt', None)-data\"), Accessed(branch='Electron_phi', buffer_key=\"('<root>', 'Electron_phi', None)-data\"), Accessed(branch='Electron_eta', buffer_key=\"('<root>', 'Electron_eta', None)-data\"), Accessed(branch='Electron_mass', buffer_key=\"('<root>', 'Electron_mass', None)-data\"), Accessed(branch='Muon_pt', buffer_key=\"('<root>', 'Muon_pt', None)-data\"), Accessed(branch='Muon_phi', buffer_key=\"('<root>', 'Muon_phi', None)-data\"), Accessed(branch='Muon_eta', buffer_key=\"('<root>', 'Muon_eta', None)-data\"), Accessed(branch='Muon_mass', buffer_key=\"('<root>', 'Muon_mass', None)-data\"), Accessed(branch='MET_pt', buffer_key=\"('<root>', 'MET_pt')-data\"), Accessed(branch='MET_phi', buffer_key=\"('<root>', 'MET_phi')-data\")]\n"
          ]
        }
      ]
    },
    {
      "cell_type": "markdown",
      "source": [
        "The last part (from Iason's notebook) is skipped since there's no BaseSchema in zipper."
      ],
      "metadata": {
        "id": "mcgJmyUopdhK"
      }
    },
    {
      "cell_type": "code",
      "source": [],
      "metadata": {
        "id": "EIQruyWqgkaV"
      },
      "execution_count": null,
      "outputs": []
    },
    {
      "cell_type": "code",
      "source": [],
      "metadata": {
        "id": "vmrmfMDNgkck"
      },
      "execution_count": null,
      "outputs": []
    }
  ]
}